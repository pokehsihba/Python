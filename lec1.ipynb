{
 "cells": [
  {
   "cell_type": "markdown",
   "metadata": {},
   "source": [
    "# What is Python?\n",
    "\n",
    "Python is a popular programming language. It was created by Guido van Rossum, and released in 1991.\n",
    "\n",
    "It is used for:\n",
    "\n",
    "    web development (server-side),\n",
    "    software development,\n",
    "    mathematics,\n",
    "    system scripting.\n",
    "\n",
    "What can Python do?\n",
    "\n",
    "    Python can be used on a server to create web applications.\n",
    "    Python can be used alongside software to create workflows.\n",
    "    Python can connect to database systems. It can also read and modify files.\n",
    "    Python can be used to handle big data and perform complex mathematics.\n",
    "    Python can be used for rapid prototyping, or for production-ready software development.\n",
    "\n",
    "Why Python?\n",
    "\n",
    "    Python works on different platforms (Windows, Mac, Linux, Raspberry Pi, etc).\n",
    "    Python has a simple syntax similar to the English language.\n",
    "    Python has syntax that allows developers to write programs with fewer lines than some other programming languages.\n",
    "    Python runs on an interpreter system, meaning that code can be executed as soon as it is written. This means that prototyping can be very quick.\n",
    "    Python can be treated in a procedural way, an object-orientated way or a functional way.\n",
    "\n",
    "Good to know\n",
    "\n",
    "    The most recent major version of Python is Python 3, which we shall be using in this tutorial. However, Python 2, although not being updated with anything other than security updates, is still quite popular.\n",
    "    In this tutorial Python will be written in a text editor. It is possible to write Python in an Integrated Development Environment, such as Thonny, Pycharm, Netbeans or Eclipse which are particularly useful when managing larger collections of Python files.\n",
    "\n",
    "Python Syntax compared to other programming languages\n",
    "\n",
    "    Python was designed for readability, and has some similarities to the English language with influence from mathematics.\n",
    "    Python uses new lines to complete a command, as opposed to other programming languages which often use semicolons or parentheses.\n",
    "    Python relies on indentation, using whitespace, to define scope; such as the scope of loops, functions and classes. Other programming languages often use curly-brackets for this purpose.\n"
   ]
  },
  {
   "cell_type": "code",
   "execution_count": 125,
   "metadata": {},
   "outputs": [
    {
     "name": "stdout",
     "output_type": "stream",
     "text": [
      "hello\n"
     ]
    }
   ],
   "source": [
    "print(\"hello\")"
   ]
  },
  {
   "cell_type": "markdown",
   "metadata": {},
   "source": [
    "## DATA TYPE IN PYTHON"
   ]
  },
  {
   "cell_type": "code",
   "execution_count": 126,
   "metadata": {},
   "outputs": [
    {
     "name": "stdout",
     "output_type": "stream",
     "text": [
      "<class 'int'>\n",
      "<class 'float'>\n",
      "<class 'str'>\n",
      "<class 'complex'>\n",
      "<class 'complex'>\n",
      "<class 'complex'>\n"
     ]
    }
   ],
   "source": [
    "x = int(2.3423/4)\n",
    "y = 1.0\n",
    "z =str(float(str(-35.59)))\n",
    "print(type(x))\n",
    "print(type(y))\n",
    "print(type(z))\n",
    "\n",
    "x = 3+0j\n",
    "y = 5j\n",
    "z = -5j\n",
    "\n",
    "#using of type() to check the type of datatype used.\n",
    "print(type(x))\n",
    "print(type(y))\n",
    "print(type(z))\n"
   ]
  },
  {
   "cell_type": "code",
   "execution_count": 127,
   "metadata": {},
   "outputs": [
    {
     "name": "stdout",
     "output_type": "stream",
     "text": [
      "9\n",
      "9.0\n",
      "9j\n",
      "<class 'int'>\n",
      "<class 'float'>\n",
      "<class 'complex'>\n"
     ]
    }
   ],
   "source": [
    "x=9\n",
    "y=9.0000\n",
    "z=9j\n",
    "print(x)\n",
    "print(y)\n",
    "print(z)\n",
    "print(type(x))\n",
    "print(type(y))\n",
    "print(type(z))"
   ]
  },
  {
   "cell_type": "code",
   "execution_count": 128,
   "metadata": {},
   "outputs": [
    {
     "name": "stdout",
     "output_type": "stream",
     "text": [
      "bhishek , raja\n",
      "a\n"
     ]
    }
   ],
   "source": [
    "abc=\"abhishek , rajan\"\n",
    "print(abc[1:15])\n",
    "print(abc[0])"
   ]
  },
  {
   "cell_type": "code",
   "execution_count": 129,
   "metadata": {},
   "outputs": [
    {
     "name": "stdout",
     "output_type": "stream",
     "text": [
      "16\n",
      "16.0\n",
      "None\n"
     ]
    }
   ],
   "source": [
    "#to change the string length in int\n",
    "llenght=len(abc)\n",
    "print(llenght)\n",
    "print(print(float(len(abc))))\n"
   ]
  },
  {
   "cell_type": "code",
   "execution_count": 130,
   "metadata": {},
   "outputs": [
    {
     "name": "stdout",
     "output_type": "stream",
     "text": [
      "abisJek , sanjeev , kusum , abJit , saksJi , ausaf \n"
     ]
    }
   ],
   "source": [
    "a = \"abishek , sanjeev , kusum , abhit , sakshi , ausaf \"\n",
    "print(a.replace(\"h\", \"J\"))"
   ]
  },
  {
   "cell_type": "code",
   "execution_count": 131,
   "metadata": {},
   "outputs": [
    {
     "name": "stdout",
     "output_type": "stream",
     "text": [
      "['abishek ', ' sanjeev ', ' kusum ', ' abhit ', ' sakshi ', ' ausaf ']\n"
     ]
    }
   ],
   "source": [
    "print(a.split(\",\"))"
   ]
  },
  {
   "cell_type": "code",
   "execution_count": 132,
   "metadata": {},
   "outputs": [
    {
     "name": "stdout",
     "output_type": "stream",
     "text": [
      "abishek , sanjeev , kusum , abhit , sakshi , ausaf \n"
     ]
    }
   ],
   "source": [
    "print(a)"
   ]
  },
  {
   "cell_type": "code",
   "execution_count": 133,
   "metadata": {},
   "outputs": [
    {
     "name": "stdout",
     "output_type": "stream",
     "text": [
      "['abishek', ',', 'sanjeev', ',', 'kusum', ',', 'abhit', ',', 'sakshi', ',', 'ausaf', '']\n"
     ]
    }
   ],
   "source": [
    "print(a.split(\" \"))"
   ]
  },
  {
   "cell_type": "code",
   "execution_count": 134,
   "metadata": {},
   "outputs": [
    {
     "name": "stdout",
     "output_type": "stream",
     "text": [
      "Enter your name:\n",
      "\n",
      "Hello,  \n"
     ]
    }
   ],
   "source": [
    "print(\"Enter your name:\")\n",
    "x = input()\n",
    "print(\"Hello, \", x)"
   ]
  },
  {
   "cell_type": "code",
   "execution_count": 135,
   "metadata": {},
   "outputs": [
    {
     "name": "stdout",
     "output_type": "stream",
     "text": [
      "6\n",
      "8\n"
     ]
    }
   ],
   "source": [
    "#floor division\n",
    "print(60//9)\n",
    "#exponential example\n",
    "print(2**3)"
   ]
  },
  {
   "cell_type": "code",
   "execution_count": 136,
   "metadata": {},
   "outputs": [
    {
     "name": "stdout",
     "output_type": "stream",
     "text": [
      "8\n"
     ]
    }
   ],
   "source": [
    "x = 8\n",
    "\n",
    "print(x)\n"
   ]
  },
  {
   "cell_type": "code",
   "execution_count": 137,
   "metadata": {},
   "outputs": [],
   "source": [
    "a=10\n",
    "b=15\n",
    "c=10\n",
    "#example of identiacl operator\n",
    "if a is not 10:\n",
    "    print(\"abc\")"
   ]
  },
  {
   "cell_type": "code",
   "execution_count": 138,
   "metadata": {},
   "outputs": [
    {
     "name": "stdout",
     "output_type": "stream",
     "text": [
      "logical operator implemented\n"
     ]
    }
   ],
   "source": [
    "#logicall operator\n",
    "if a is c and b is not c:\n",
    "    print(\"logical operator implemented\")"
   ]
  },
  {
   "cell_type": "code",
   "execution_count": 139,
   "metadata": {},
   "outputs": [
    {
     "name": "stdout",
     "output_type": "stream",
     "text": [
      "['abishek', 'neeraj', 'sanjeev', 'kusum', 'abhit', 'sakshi', 'ausaf ']\n"
     ]
    }
   ],
   "source": [
    "a1 = [\"abishek\" , \"neeraj\" , \"sanjeev\" , \"kusum\" , \"abhit\" , \"sakshi\" , \"ausaf \"]\n",
    "if \"kusum\" in a1:\n",
    "    print(a1)"
   ]
  },
  {
   "cell_type": "code",
   "execution_count": 140,
   "metadata": {},
   "outputs": [
    {
     "name": "stdout",
     "output_type": "stream",
     "text": [
      "the one in idea lap are\n",
      "abishek\n",
      "neeraj\n",
      "sanjeev\n",
      "kusum\n",
      "abhit\n",
      "sakshi\n",
      "ausaf \n"
     ]
    }
   ],
   "source": [
    "#list example with for loop\n",
    "print(\"the one in idea lap are\")\n",
    "for x in a1:\n",
    "    print(x)"
   ]
  },
  {
   "cell_type": "markdown",
   "metadata": {},
   "source": [
    "### List Function"
   ]
  },
  {
   "cell_type": "code",
   "execution_count": 141,
   "metadata": {},
   "outputs": [
    {
     "name": "stdout",
     "output_type": "stream",
     "text": [
      "ausaf\n",
      "['abhishek', 'abhit', 'sanjeev', 'ausaf', 'kusum', 'sakshi']\n",
      "['abhishek', 'abhit', 'sanjeev', 'ausaf', 'kusum', 'sakshi', 'Akhilesh']\n",
      "['abhishek', 'neeraj', 'abhit', 'sanjeev', 'ausaf', 'kusum', 'sakshi', 'Akhilesh']\n",
      "['abhishek', 'abhit', 'sanjeev', 'ausaf', 'kusum', 'sakshi', 'Akhilesh']\n",
      "['abhishek', 'abhit', 'sanjeev', 'ausaf', 'kusum', 'sakshi']\n",
      "['abhishek', 'abhit', 'sanjeev', 'ausaf', 'sakshi']\n",
      "['abhit', 'sanjeev', 'ausaf', 'sakshi']\n",
      "['abhit', 'ausaf', 'sakshi', 'sanjeev']\n",
      "['abc', '123', '12.3']\n",
      "['hello1', 'hello2', 'hello']\n",
      "['12.3', '123', 'abc', 'hello', 'hello1', 'hello2']\n"
     ]
    }
   ],
   "source": [
    "#LIST////////////////function/////////////////////\n",
    "lst1=[\"abhishek\",\"abhit\",\"sanjeev\",\"ausaf\",\"kusum\",\"sakshi\"]\n",
    "print(lst1[3])\n",
    "print(lst1)\n",
    "#append to list\n",
    "lst1.append(\"Akhilesh\")\n",
    "print(lst1)\n",
    "#insert to list\n",
    "lst1.insert(1,\"neeraj\")\n",
    "print(lst1)\n",
    "#remove to list\n",
    "lst1.remove(\"neeraj\")\n",
    "print(lst1)\n",
    "#pop to list\n",
    "lst1.pop()\n",
    "print(lst1)\n",
    "#pop to list from 4th position\n",
    "lst1.pop(4)\n",
    "print(lst1)\n",
    "#delete to list\n",
    "del lst1[0]\n",
    "#copy of  list\n",
    "mylist=lst1.copy()\n",
    "print(mylist)\n",
    "lst1.sort()\n",
    "print(lst1)\n",
    "#clear the list\n",
    "lst1.clear()\n",
    "#different types of the \n",
    "lst2=[\"abc\",str(123),str(12.3)]\n",
    "print(lst2)\n",
    "lst1.extend([\"hello1\",\"hello2\",\"hello\"])\n",
    "print(lst1)\n",
    "lst1.extend(lst2)\n",
    "lst1.sort()\n",
    "print(lst1)"
   ]
  },
  {
   "cell_type": "markdown",
   "metadata": {},
   "source": [
    "### Tuple Exercise"
   ]
  },
  {
   "cell_type": "code",
   "execution_count": 142,
   "metadata": {},
   "outputs": [
    {
     "name": "stdout",
     "output_type": "stream",
     "text": [
      "hello\n",
      "abhis\n",
      "ausaf\n",
      "abhit\n",
      "abhis\n",
      "ausaf\n",
      "2\n",
      "1\n"
     ]
    }
   ],
   "source": [
    "#tuple exercise\n",
    "thistuple=(\"hello\",\"abhis\", \"ausaf\", \"abhit\",\"abhis\")\n",
    "for x in thistuple:\n",
    "    print(x)\n",
    "print(thistuple[2])\n",
    "print(thistuple.count(\"abhis\"))#returns th no of time abhis occured\n",
    "print(thistuple.index(\"abhis\"))\n",
    "del thistuple"
   ]
  },
  {
   "cell_type": "code",
   "execution_count": 143,
   "metadata": {},
   "outputs": [
    {
     "name": "stdout",
     "output_type": "stream",
     "text": [
      "{'cherry', 'apple', 'banana'}\n"
     ]
    }
   ],
   "source": [
    "#sets  example\n",
    "thisset = {\"apple\",\"banana\",\"cherry\"}\n",
    "print(thisset) "
   ]
  },
  {
   "cell_type": "code",
   "execution_count": 144,
   "metadata": {},
   "outputs": [
    {
     "name": "stdout",
     "output_type": "stream",
     "text": [
      "cherry\n",
      "apple\n",
      "banana\n"
     ]
    }
   ],
   "source": [
    "thisset = {\"apple\", \"banana\", \"cherry\"}\n",
    "\n",
    "for x in thisset:\n",
    "  print(x)"
   ]
  },
  {
   "cell_type": "code",
   "execution_count": 145,
   "metadata": {},
   "outputs": [
    {
     "name": "stdout",
     "output_type": "stream",
     "text": [
      "{'cherry', 'apple', 'hello', 'banana'}\n",
      "{'hello', 'hello3', 'helko1', 'banana', 'apple', 'hello4', 'cherry', 'hello5'}\n",
      "{'hello3', 'helko1', 'banana', 'apple', 'hello4', 'cherry', 'hello5'}\n",
      "{'helko1', 'banana', 'apple', 'hello4', 'cherry', 'hello5'}\n"
     ]
    }
   ],
   "source": [
    "#set_function_below\n",
    "#we can not access the index of set as they are in unordered list and we can't specify the the elements list\n",
    "thisset.add(\"hello\")\n",
    "print(thisset)\n",
    "#updates the set\n",
    "thisset.update([\"helko1\",\"hello3\",\"hello4\",\"hello5\",\"hello4\"])\n",
    "print(thisset)\n",
    "#remove removes the element but doestn't gives error if not found\n",
    "thisset.discard(\"hello\")\n",
    "print(thisset)\n",
    "#remove removes the element but gives error if not found\n",
    "thisset.remove(\"hello3\")\n",
    "print(thisset)\n",
    "#thisset.sort()...will give the error\n",
    "#set() is the constructor of set\n"
   ]
  },
  {
   "cell_type": "code",
   "execution_count": 146,
   "metadata": {},
   "outputs": [
    {
     "name": "stdout",
     "output_type": "stream",
     "text": [
      "{'brand': 'Ford', 'model': 'Mustang', 'year': 1964}\n",
      "Mustang\n",
      "Mustang\n",
      "\n",
      "brand\n",
      "model\n",
      "year\n",
      "\n",
      "Ford\n",
      "Mustang\n",
      "1964\n"
     ]
    }
   ],
   "source": [
    "#dictionary example\n",
    "thisdict =\t{\n",
    "  \"brand\": \"Ford\",\n",
    "  \"model\": \"Mustang\",\n",
    "  \"year\": 1964\n",
    "}\n",
    "#print the list, then a element by two methods\n",
    "print(thisdict)\n",
    "print(thisdict[\"model\"])\n",
    "print(thisdict.get(\"model\"))\n",
    "print()\n",
    "#print using for loop \n",
    "#1.all the keys\n",
    "for x in thisdict:\n",
    "  print(x) \n",
    "#2. all the values for key\n",
    "print()\n",
    "for x in thisdict:\n",
    "    print(thisdict[x])"
   ]
  },
  {
   "cell_type": "code",
   "execution_count": 147,
   "metadata": {},
   "outputs": [
    {
     "name": "stdout",
     "output_type": "stream",
     "text": [
      "Ford\n",
      "Mustang\n",
      "1964\n"
     ]
    }
   ],
   "source": [
    "#You can also use the values() function to return values of a dictionary:\n",
    "for x in thisdict.values():\n",
    "  print(x) "
   ]
  },
  {
   "cell_type": "code",
   "execution_count": 148,
   "metadata": {},
   "outputs": [
    {
     "name": "stdout",
     "output_type": "stream",
     "text": [
      "brand Ford\n",
      "model Mustang\n",
      "year 1964\n"
     ]
    }
   ],
   "source": [
    "#Loop through both keys and values, by using the items() function:\n",
    "for x, y in thisdict.items():\n",
    "  print(x, y) "
   ]
  },
  {
   "cell_type": "code",
   "execution_count": 149,
   "metadata": {},
   "outputs": [
    {
     "name": "stdout",
     "output_type": "stream",
     "text": [
      "yes key is present\n"
     ]
    }
   ],
   "source": [
    "#check if the key is present in the list\n",
    "if \"model\" in thisdict:\n",
    "    print(\"yes key is present\")"
   ]
  },
  {
   "cell_type": "code",
   "execution_count": 150,
   "metadata": {},
   "outputs": [
    {
     "name": "stdout",
     "output_type": "stream",
     "text": [
      "yes value is present\n"
     ]
    }
   ],
   "source": [
    "#check if the value is present in the list\n",
    "if \"Ford\" in thisdict.values():\n",
    "    print(\"yes value is present\")"
   ]
  },
  {
   "cell_type": "code",
   "execution_count": 151,
   "metadata": {},
   "outputs": [
    {
     "name": "stdout",
     "output_type": "stream",
     "text": [
      "the list size is: 3\n"
     ]
    }
   ],
   "source": [
    "#find the length of the list\n",
    "print(\"the list size is: \"+str(len(thisdict)))"
   ]
  },
  {
   "cell_type": "code",
   "execution_count": 152,
   "metadata": {},
   "outputs": [
    {
     "name": "stdout",
     "output_type": "stream",
     "text": [
      "the updated list is:\n",
      "{'brand': 'Ford', 'model': 'Mustang', 'year': 1964, 'color': 'red'}\n",
      "{'brand': 'Ford', 'year': 1964, 'color': 'red'}\n",
      "{'brand': 'Ford', 'year': 1964}\n"
     ]
    }
   ],
   "source": [
    "#Adding an item to the dictionary is done by using a new index key and assigning a value to it:\n",
    "thisdict[\"color\"] = \"red\"\n",
    "print(\"the updated list is:\")\n",
    "print(thisdict)\n",
    "#to remove the element from list\n",
    "thisdict.pop(\"model\")\n",
    "print(thisdict) \n",
    "#The popitem() method removes the last inserted item\n",
    "thisdict.popitem()\n",
    "print(thisdict) "
   ]
  },
  {
   "cell_type": "code",
   "execution_count": 153,
   "metadata": {},
   "outputs": [
    {
     "name": "stdout",
     "output_type": "stream",
     "text": [
      "{'year': 1964}\n"
     ]
    }
   ],
   "source": [
    "#The del keyword removes the item with the specified key name:\n",
    "del thisdict[\"brand\"]\n",
    "print(thisdict) "
   ]
  },
  {
   "cell_type": "code",
   "execution_count": 154,
   "metadata": {},
   "outputs": [],
   "source": [
    "#The del keyword can also delete the dictionary completely:\n",
    "del thisdict\n",
    "#print(thisdict)this line gives error "
   ]
  },
  {
   "cell_type": "code",
   "execution_count": 155,
   "metadata": {},
   "outputs": [
    {
     "name": "stdout",
     "output_type": "stream",
     "text": [
      "{'brand': 'Ford', 'model': 'Mustang', 'year': 1964}\n",
      "after clear the list is:\n",
      "{}\n"
     ]
    }
   ],
   "source": [
    "#create the list again and then clear the list and print befor clear and after clear\n",
    "thisdict =\t{\n",
    "  \"brand\": \"Ford\",\n",
    "  \"model\": \"Mustang\",\n",
    "  \"year\": 1964\n",
    "}\n",
    "print(thisdict)\n",
    "thisdict.clear()\n",
    "print(\"after clear the list is:\")\n",
    "print(thisdict) "
   ]
  },
  {
   "cell_type": "code",
   "execution_count": 156,
   "metadata": {},
   "outputs": [
    {
     "name": "stdout",
     "output_type": "stream",
     "text": [
      "original is:\n",
      "{'brand': 'Ford', 'model': 'Mustang', 'year': 2018}\n",
      "dict2:\n",
      "{'brand': 'Ford', 'model': 'Mustang', 'year': 2018}\n",
      "dict3:\n",
      "{'brand': 'Ford', 'model': 'Mustang', 'year': 2018}\n"
     ]
    }
   ],
   "source": [
    "#to copy the dictionary\n",
    "#dict2 = dict1 not allowed as it makes the refernce to dict1 and \n",
    "#changes made in dictionary 2 will reflect in the dictionarr 2\n",
    "#There are ways to make a copy, one way is to use the built-in Dictionary method copy().\n",
    "thisdict =\t{\n",
    "  \"brand\": \"Ford\",\n",
    "  \"model\": \"Mustang\",\n",
    "  \"year\": 2018\n",
    "}\n",
    "print(\"original is:\")\n",
    "dict2 = thisdict.copy()\n",
    "print(dict2)\n",
    "print(\"dict2:\")\n",
    "print(thisdict)\n",
    "#another way to is using default constructor\n",
    "dict3 = dict(thisdict)\n",
    "print(\"dict3:\")\n",
    "print(dict3)"
   ]
  },
  {
   "cell_type": "code",
   "execution_count": 157,
   "metadata": {},
   "outputs": [
    {
     "name": "stdout",
     "output_type": "stream",
     "text": [
      "dict4 is using constructor\n",
      "{'brand': 'Ford', 'model': 'Mustang', 'year': 1964}\n"
     ]
    }
   ],
   "source": [
    "#The dict() Constructor\n",
    "#It is also possible to use the dict() constructor to make a new dictionary:\n",
    "dict4 = dict(brand=\"Ford\", model=\"Mustang\", year=1964)\n",
    "print(\"dict4 is using constructor\")\n",
    "print(dict4)"
   ]
  },
  {
   "cell_type": "code",
   "execution_count": 158,
   "metadata": {
    "scrolled": false
   },
   "outputs": [],
   "source": [
    "#setdefault()Returns the value of the specified key.\n",
    "#If the key does not exist: insert the key, with the specified value\n",
    "#update()Updates the dictionary with the specified key-value pairs\"\"\""
   ]
  },
  {
   "cell_type": "markdown",
   "metadata": {},
   "source": [
    "Python supports the usual logical conditions from mathematics:\n",
    "\n",
    "    Equals: a == b\n",
    "    Not Equals: a != b\n",
    "    Less than: a < b\n",
    "    Less than or equal to: a <= b\n",
    "    Greater than: a > b\n",
    "    Greater than or equal to: a >= b\n",
    "\n",
    "These conditions can be used in several ways, most commonly in \"if statements\" and loops.\n",
    "\n",
    "An \"if statement\" is written by using the if keyword."
   ]
  },
  {
   "cell_type": "code",
   "execution_count": 76,
   "metadata": {},
   "outputs": [
    {
     "name": "stdout",
     "output_type": "stream",
     "text": [
      "in if statement\n"
     ]
    }
   ],
   "source": [
    "#if statement,elif.else\n",
    "if 10 > 5:\n",
    "    print(\"in if statement\")\n",
    "elif 10>6:\n",
    "    print(\"in elif statement\")\n",
    "else:\n",
    "    print(\"in else statement\")"
   ]
  },
  {
   "cell_type": "code",
   "execution_count": 78,
   "metadata": {},
   "outputs": [
    {
     "name": "stdout",
     "output_type": "stream",
     "text": [
      "10 is greater than 9\n"
     ]
    }
   ],
   "source": [
    "#shorthand If you have only one statement to execute, you can put it on the same line as the if statement.\n",
    "if 10 > 9: print(\"10 is greater than 9\")"
   ]
  },
  {
   "cell_type": "code",
   "execution_count": 80,
   "metadata": {},
   "outputs": [
    {
     "name": "stdout",
     "output_type": "stream",
     "text": [
      "A\n"
     ]
    }
   ],
   "source": [
    "#If you have only one statement to execute, one for if, and one for else, you can put it all on the same line:\n",
    "print(\"A\") if 10 > 5 else print(\"B\") "
   ]
  },
  {
   "cell_type": "markdown",
   "metadata": {},
   "source": [
    "The two operators used are And and Or:\n",
    "\n",
    "And:The and keyword is a logical operator, and is used to combine conditional statements:   \n",
    "Or:The or keyword is a logical operator, and is used to combine conditional statements:"
   ]
  },
  {
   "cell_type": "markdown",
   "metadata": {},
   "source": [
    "#########################################################################################\n",
    "Python Loops\n",
    "\n",
    "Python has two primitive loop commands:\n",
    "\n",
    "    while loops\n",
    "    for loops\n"
   ]
  },
  {
   "cell_type": "markdown",
   "metadata": {},
   "source": [
    "The while Loop\n",
    "\n",
    "With the while loop we can execute a set of statements as long as a condition is true."
   ]
  },
  {
   "cell_type": "code",
   "execution_count": 83,
   "metadata": {},
   "outputs": [
    {
     "name": "stdout",
     "output_type": "stream",
     "text": [
      "1\n",
      "2\n",
      "3\n",
      "4\n",
      "5\n"
     ]
    }
   ],
   "source": [
    "i = 1\n",
    "while i < 6:\n",
    "  print(i)\n",
    "  i += 1"
   ]
  },
  {
   "cell_type": "markdown",
   "metadata": {},
   "source": [
    "###### The break Statement\n",
    "\n",
    "With the break statement we can stop the loop even if the while condition is true:\n",
    "Example\n",
    "\n",
    "\n",
    "The continue Statement\n",
    "\n",
    "With the continue statement we can stop the current iteration, and continue with the next:"
   ]
  },
  {
   "cell_type": "markdown",
   "metadata": {},
   "source": [
    "####              FOR                ########################################\n",
    "Python For Loops\n",
    "\n",
    "A for loop is used for iterating over a sequence (that is either a list, a tuple, a dictionary, a set, or a string).\n",
    "\n",
    "This is less like the for keyword in other programming language, and works more like an iterator method as found in other object-orientated programming languages.\n",
    "\n",
    "With the for loop we can execute a set of statements, once for each item in a list, tuple, set etc.\n",
    "the statements used are:\n",
    "break\n",
    "continue\n"
   ]
  },
  {
   "cell_type": "markdown",
   "metadata": {},
   "source": [
    "# The range() Function\n",
    "To loop through a set of code a specified number of times, we can use the range() function,\n",
    "\n",
    "The range() function returns a sequence of numbers, starting from 0 by default, and increments by 1 (by default), and ends at a specified number.\n",
    "\n",
    "The range() function defaults to 0 as a starting value, however it is possible to specify the starting value by adding a parameter: range(2, 6), which means values from 2 to 6 (but not including 6):\n",
    "\n",
    "The range() function defaults to increment the sequence by 1, however it is possible to specify the increment value by adding a third parameter: range(2, 30, 3):"
   ]
  },
  {
   "cell_type": "code",
   "execution_count": 84,
   "metadata": {},
   "outputs": [
    {
     "name": "stdout",
     "output_type": "stream",
     "text": [
      "2\n",
      "5\n",
      "8\n",
      "11\n",
      "14\n",
      "17\n",
      "20\n",
      "23\n",
      "26\n",
      "29\n"
     ]
    }
   ],
   "source": [
    "for x in range(2, 30, 3):\n",
    "  print(x)"
   ]
  },
  {
   "cell_type": "markdown",
   "metadata": {},
   "source": [
    "### Else in For Loop\n",
    "\n",
    "The else keyword in a for loop specifies a block of code to be executed when the loop is finished:2"
   ]
  },
  {
   "cell_type": "code",
   "execution_count": 85,
   "metadata": {},
   "outputs": [
    {
     "name": "stdout",
     "output_type": "stream",
     "text": [
      "0\n",
      "1\n",
      "2\n",
      "3\n",
      "4\n",
      "5\n",
      "Finally finished!\n"
     ]
    }
   ],
   "source": [
    "for x in range(6):\n",
    "  print(x)\n",
    "else:\n",
    "  print(\"Finally finished!\") "
   ]
  },
  {
   "cell_type": "markdown",
   "metadata": {},
   "source": [
    "## Nested Loops\n",
    "\n",
    "A nested loop is a loop inside a loop.\n",
    "\n",
    "The \"inner loop\" will be executed one time for each iteration of the \"outer loop\":\n",
    "Example\n",
    "\n",
    "Print each adjective for every fruit:\n"
   ]
  },
  {
   "cell_type": "code",
   "execution_count": 88,
   "metadata": {},
   "outputs": [
    {
     "name": "stdout",
     "output_type": "stream",
     "text": [
      "red apple\n",
      "red banana\n",
      "red cherry\n",
      "big apple\n",
      "big banana\n",
      "big cherry\n",
      "tasty apple\n",
      "tasty banana\n",
      "tasty cherry\n"
     ]
    }
   ],
   "source": [
    "adj = [\"red\", \"big\", \"tasty\"]\n",
    "fruits = [\"apple\", \"banana\", \"cherry\"]\n",
    "\n",
    "for x in adj:\n",
    "  for y in fruits:\n",
    "    print(x, y) "
   ]
  },
  {
   "cell_type": "markdown",
   "metadata": {},
   "source": [
    "## Python Functions\n",
    "A function is a block of code which only runs when it is called.\n",
    "\n",
    "You can pass data, known as parameters, into a function.\n",
    "\n",
    "A function can return data as a result.\n",
    "Creating a Function\n",
    "\n",
    "In Python a function is defined using the def keyword:\n"
   ]
  },
  {
   "cell_type": "code",
   "execution_count": 91,
   "metadata": {},
   "outputs": [
    {
     "name": "stdout",
     "output_type": "stream",
     "text": [
      "Hello from a function\n",
      "now out of function\n"
     ]
    }
   ],
   "source": [
    "def my_function():\n",
    "  print(\"Hello from a function\") \n",
    "#To call a function, use the function name followed by parenthesis:\n",
    "my_function()\n",
    "print(\"now out of function\")"
   ]
  },
  {
   "cell_type": "markdown",
   "metadata": {},
   "source": [
    "## Parameters\n",
    "\n",
    "Information can be passed to functions as parameter.\n",
    "\n",
    "Parameters are specified after the function name, inside the parentheses. You can add as many parameters as you want, just separate them with a comma.\n",
    "\n",
    "The following example has a function with one parameter (fname). When the function is called, we pass along a first name, which is used inside the function to print the full name: "
   ]
  },
  {
   "cell_type": "code",
   "execution_count": 95,
   "metadata": {},
   "outputs": [
    {
     "name": "stdout",
     "output_type": "stream",
     "text": [
      "Emil Refsnes\n",
      "Tobias Refsnes\n",
      "Linus Refsnes\n"
     ]
    }
   ],
   "source": [
    "def my_function(fname):\n",
    "  print(fname + \" Refsnes\")\n",
    "\n",
    "my_function(\"Emil\")\n",
    "my_function(\"Tobias\")\n",
    "my_function(\"Linus\") "
   ]
  },
  {
   "cell_type": "code",
   "execution_count": 97,
   "metadata": {},
   "outputs": [
    {
     "name": "stdout",
     "output_type": "stream",
     "text": [
      "given name is :abhishek\n",
      "given name is :abhit\n"
     ]
    }
   ],
   "source": [
    "#example2\n",
    "def print_name(name):\n",
    "    print(\"given name is :\"+name)\n",
    "#calling function\n",
    "print_name(\"abhishek\")\n",
    "print_name(\"abhit\")"
   ]
  },
  {
   "cell_type": "markdown",
   "metadata": {},
   "source": [
    "### Default Parameter Value\n",
    "\n",
    "The following example shows how to use a default parameter value.\n",
    "\n"
   ]
  },
  {
   "cell_type": "code",
   "execution_count": 100,
   "metadata": {},
   "outputs": [
    {
     "name": "stdout",
     "output_type": "stream",
     "text": [
      "I am from Sweden\n",
      "I am from India\n",
      "I am from Norway\n",
      "I am from Brazil\n"
     ]
    }
   ],
   "source": [
    "def my_function(country = \"Norway\"):\n",
    "  print(\"I am from \" + country)\n",
    "\n",
    "my_function(\"Sweden\")\n",
    "my_function(\"India\")\n",
    "my_function()\n",
    "my_function(\"Brazil\") \n",
    "#my_function(2324) will give error"
   ]
  },
  {
   "cell_type": "markdown",
   "metadata": {},
   "source": [
    "## Passing a List as a Parameter\n",
    "\n",
    "You can send any data types of parameter to a function (string, number, list, dictionary etc.), and it will be treated as the same data type inside the function.\n",
    "\n",
    "E.g. if you send a List as a parameter, it will still be a List when it reaches the function:\n"
   ]
  },
  {
   "cell_type": "code",
   "execution_count": 103,
   "metadata": {},
   "outputs": [
    {
     "name": "stdout",
     "output_type": "stream",
     "text": [
      "apple\n",
      "banana\n",
      "cherry\n",
      "\n",
      "guava\n",
      "grapes\n",
      "chiku\n"
     ]
    }
   ],
   "source": [
    "def my_function(food):\n",
    "  for x in food:\n",
    "    print(x)\n",
    "\n",
    "fruits = [\"apple\", \"banana\", \"cherry\"]\n",
    "\n",
    "my_function(fruits)\n",
    "print()\n",
    "fruits2 = [\"guava\",\"grapes\",\"chiku\"]\n",
    "my_function(fruits2)"
   ]
  },
  {
   "cell_type": "markdown",
   "metadata": {},
   "source": [
    "### Return Values\n",
    "\n",
    "To let a function return a value, use the return statement:"
   ]
  },
  {
   "cell_type": "code",
   "execution_count": 104,
   "metadata": {},
   "outputs": [
    {
     "name": "stdout",
     "output_type": "stream",
     "text": [
      "15\n",
      "25\n",
      "45\n"
     ]
    }
   ],
   "source": [
    "def my_function(x):\n",
    "  return 5 * x\n",
    "\n",
    "print(my_function(3))\n",
    "print(my_function(5))\n",
    "print(my_function(9)) "
   ]
  },
  {
   "cell_type": "markdown",
   "metadata": {},
   "source": [
    "## Recursion\n",
    "\n",
    "Python also accepts function recursion, which means a defined function can call itself.\n",
    "\n",
    "Recursion is a common mathematical and programming concept. It means that a function calls itself. This has the benefit of meaning that you can loop through data to reach a result.\n",
    "\n",
    "The developer should be very careful with recursion as it can be quite easy to slip into writing a function which never terminates, or one that uses excess amounts of memory or processor power. However, when written correctly recursion can be a very efficient and mathematically-elegant approach to programming.\n",
    "\n",
    "In this example, tri_recursion() is a function that we have defined to call itself (\"recurse\"). We use the k variable as the data, which decrements (-1) every time we recurse. The recursion ends when the condition is not greater than 0 (i.e. when it is 0).\n",
    "\n",
    "To a new developer it can take some time to work out how exactly this works, best way to find out is by testing and modifying it."
   ]
  },
  {
   "cell_type": "code",
   "execution_count": 105,
   "metadata": {
    "collapsed": true
   },
   "outputs": [
    {
     "name": "stdout",
     "output_type": "stream",
     "text": [
      "\n",
      "\n",
      "Recursion Example Results\n",
      "1\n",
      "3\n",
      "6\n",
      "10\n",
      "15\n",
      "21\n"
     ]
    },
    {
     "data": {
      "text/plain": [
       "21"
      ]
     },
     "execution_count": 105,
     "metadata": {},
     "output_type": "execute_result"
    }
   ],
   "source": [
    "def tri_recursion(k):\n",
    "  if(k>0):\n",
    "    result = k+tri_recursion(k-1)\n",
    "    print(result)\n",
    "  else:\n",
    "    result = 0\n",
    "  return result\n",
    "\n",
    "print(\"\\n\\nRecursion Example Results\")\n",
    "tri_recursion(6)"
   ]
  },
  {
   "cell_type": "markdown",
   "metadata": {},
   "source": [
    "# lambda"
   ]
  },
  {
   "cell_type": "markdown",
   "metadata": {},
   "source": [
    "#### A lambda function is a small anonymous function.\n",
    "\n",
    "A lambda function can take any number of arguments, but can only have one expression."
   ]
  },
  {
   "cell_type": "code",
   "execution_count": 107,
   "metadata": {},
   "outputs": [
    {
     "name": "stdout",
     "output_type": "stream",
     "text": [
      "15\n",
      "25\n"
     ]
    }
   ],
   "source": [
    "#A lambda function that adds 10 to the number passed in as an argument, and print the result:\n",
    "x = lambda a : a + 10\n",
    "print(x(5)) \n",
    "print(x(x(5)))"
   ]
  },
  {
   "cell_type": "markdown",
   "metadata": {},
   "source": [
    "#### Lambda functions can take any number of arguments:\n",
    "A lambda function that multiplies argument a with argument b and print the result:"
   ]
  },
  {
   "cell_type": "code",
   "execution_count": 108,
   "metadata": {},
   "outputs": [
    {
     "name": "stdout",
     "output_type": "stream",
     "text": [
      "30\n"
     ]
    }
   ],
   "source": [
    "x = lambda a, b : a * b\n",
    "print(x(5, 6)) "
   ]
  },
  {
   "cell_type": "code",
   "execution_count": 109,
   "metadata": {},
   "outputs": [
    {
     "name": "stdout",
     "output_type": "stream",
     "text": [
      "13\n"
     ]
    }
   ],
   "source": [
    "#A lambda function that sums argument a, b, and c and print the result:\n",
    "x = lambda a, b, c : a + b + c\n",
    "print(x(5, 6, 2)) "
   ]
  },
  {
   "cell_type": "markdown",
   "metadata": {},
   "source": [
    "## Why Use Lambda Functions?\n",
    "\n",
    "The power of lambda is better shown when you use them as an anonymous function inside another function.\n",
    "\n",
    "Say you have a function definition that takes one argument, and that argument will be multiplied with an unknown number:\n"
   ]
  },
  {
   "cell_type": "code",
   "execution_count": 159,
   "metadata": {},
   "outputs": [
    {
     "name": "stdout",
     "output_type": "stream",
     "text": [
      "13\n",
      "23\n"
     ]
    }
   ],
   "source": [
    "def myfunc(n):\n",
    "  return lambda a : a + n\n",
    "\n",
    "mydoubler = myfunc(3)\n",
    "print(mydoubler(10))\n",
    "print(mydoubler(20))"
   ]
  },
  {
   "cell_type": "markdown",
   "metadata": {},
   "source": [
    "## Note: Python does not have built-in support for Arrays, but Python Lists can be used instead."
   ]
  },
  {
   "cell_type": "markdown",
   "metadata": {},
   "source": [
    "### Array Methods\n",
    "\n",
    "Python has a set of built-in methods that you can use on lists/arrays.\n",
    "Method \tDescription\n",
    "\n",
    "append()--\tAdds an element at the end of the list\n",
    "\n",
    "clear()--\tRemoves all the elements from the list\n",
    "\n",
    "copy()--\tReturns a copy of the list\n",
    "\n",
    "count()-\tReturns the number of elements with the specified value\n",
    "\n",
    "extend()--\tAdd the elements of a list (or any iterable), to the end of the current list\n",
    "\n",
    "index()--Returns the index of the first element with the specified value\n",
    "\n",
    "insert()--\tAdds an element at the specified position\n",
    "\n",
    "pop()--\tRemoves the element at the specified position\n",
    "\n",
    "remove()--\tRemoves the first item with the specified value\n",
    "\n",
    "reverse()--\tReverses the order of the list\n",
    "\n",
    "sort()--\tSorts the list"
   ]
  },
  {
   "cell_type": "code",
   "execution_count": null,
   "metadata": {},
   "outputs": [],
   "source": []
  }
 ],
 "metadata": {
  "kernelspec": {
   "display_name": "Python 3",
   "language": "python",
   "name": "python3"
  },
  "language_info": {
   "codemirror_mode": {
    "name": "ipython",
    "version": 3
   },
   "file_extension": ".py",
   "mimetype": "text/x-python",
   "name": "python",
   "nbconvert_exporter": "python",
   "pygments_lexer": "ipython3",
   "version": "3.7.3"
  }
 },
 "nbformat": 4,
 "nbformat_minor": 2
}
